{
 "cells": [
  {
   "cell_type": "markdown",
   "metadata": {},
   "source": [
    "# Modelo de Incendios Forestales"
   ]
  },
  {
   "cell_type": "markdown",
   "metadata": {},
   "source": [
    "## 1. Introducción"
   ]
  },
  {
   "cell_type": "markdown",
   "metadata": {},
   "source": [
    "En el Valle de Aburrá los incendios forestales se han convertido en un problema ambiental del cual se derivan perdidas de cobertura vegetal, afectación a fauna y flora, problemas de contaminación \n",
    "de aire y afectaciones directas a las comunidades aledañas.\n",
    "\n",
    "Los incendios forestales son iniciados la mayoría de las veces por intervención humana, ya sea por quemas mal intencionadas, quemas controladas en cultivos, a partir de objetos altamente combustibles que \n",
    "son arrojados en los cerros y laderas, etc. En gran proporción los incendios forestales ocurren en épocas de poca precipitación en donde las condiciones de temperatura y humedad \n",
    "del suelo son favorables para la iniciación y propagación de los incendios.\n",
    "\n",
    "De acuerdo a distintos estudios, las variables de mayor influencia sobre los incendios forestales se pueden agrupar en tres categorías: climáticas, combustible y antrópicas. Las climáticas dan \n",
    "cuenta de las condiciones atmosféricas que favorecen la susceptibilidad de los combustibles a ser incinerados, en esta categoría son de mayor relevancia la temperatura, humedad relativa y vientos.\n",
    "\n",
    "El combustible se relaciona con las características de la cobertura vegetal, tipo de vegetación, perdida de humedad y pendiente del terreno, la cual se relaciona directamente con la retención de \n",
    "humedad en el subsuelo donde se ubican sus raíces. Finalmente en la actividad antrópica las variables de relevancia son distancia a la zona urbana, presencia de carreteras y densidad poblacional en \n",
    "las vecindades del lugar de interés.\n",
    "\n",
    "Como información inicial se cuenta con el histórico de incendios para 9 municipios del Valle de Aburrá en los últimos seis años. En esta base de datos se encuentra información sobre localización, día y \n",
    "hora de ocurrencia y particularidades de cada incendio. Esta información es importantes para la creación de reglas y validación del modelo de susceptibilidad.\n",
    "\n",
    "En este docuemneto se describen en detalle cada una da las variables que componen el modelo de susceptibilidad a incendios forestales además se plantea el esquema operacional\n",
    "y despliegue del modelo.    "
   ]
  },
  {
   "cell_type": "markdown",
   "metadata": {},
   "source": [
    "## 2. Variables dinámicas"
   ]
  },
  {
   "cell_type": "markdown",
   "metadata": {},
   "source": [
    "Las variables dinámicas son aquellas que fluctuan en el tiempo y dependen\n",
    "de las condiciones climáticas en el momento de la evaluación. En el modelo que se plantea\n",
    "las variables dinámicas son el mapa de humedad del suelo y el mapa de precipitación en\n",
    "el cual se unen dos parámetros (acumulado de lluvia y tiempo de sequía)."
   ]
  },
  {
   "cell_type": "markdown",
   "metadata": {},
   "source": [
    "### 2.1 Precipitación"
   ]
  },
  {
   "cell_type": "markdown",
   "metadata": {},
   "source": [
    "Desde el punto de vista climático la precipitación es una de las variables mas determinantes para estimar la vulnerabilidad y disposición de los materiales a ser encendidos. Para el Valle de Aburrá\n",
    "se dispone de registros de precipitación obtenidos del radar meteorológico operado por el SIATA con resolución temporal de cinco minutos y espacial de aproximadamente 150 metros.\n",
    "\n",
    "Para el planteamiento del modelo de susceptibilidad se considera la precipitación desde dos puntos de vista:\n",
    "\n",
    "$Acumulado$ $de$ $precipitación$: se calculan acumulados de precipitación para una ventana de tiempo previa a la ocurrencia de los incendios históricos con el objetivo de encontrar un patrón relacionado\n",
    "con la precipitación precedente. La ventana de tiempo para calcular le precipitación acumulado fue variada desde 5 hasta 30 días en busca de una diferencia clara entre los días de ocurrencia de incendio\n",
    "y los demás registros considerados como normales. \n",
    "\n",
    "Las precipitaciones acumuladas presentan una distribución particular para los días con ocurrencia de incendio. Se establece que 15 días es una ventana de tiempo adecuada para diferenciar los acumulados entre días de ocurrencia de incendio y los demás registros. El $60\\%$ de los incendios históricos presentaron acumulados\n",
    "menores a $6mm$ en los últimos 15 días.\n",
    "\n",
    "$Días$ $de$ $sequía$ $antecedente$: se calculan los días de sequía precedentes al día del incendio. En el item anterior se establece que para el $60\\%$ de los incendios el acumulado de precipitación no supera\n",
    "los $6mm$ en 15 días, esta valor es empleado como umbral para establecer los días antecedentes al incendio que fueron necesarios para superarlo. En este documento se le denomina sequía a dicha cantidad\n",
    "de días."
   ]
  },
  {
   "cell_type": "markdown",
   "metadata": {
    "collapsed": true
   },
   "source": [
    "![title](acumP_incendios.png)\n",
    "\n",
    "Acumulados de precipitación para 15 días antes de la ocurrencia de incendios forestales. Dicho acumulado se calcula en el punto exacto de cada incendios.\n",
    "\n",
    "Los acumulados se calculan para los días de incendio, días de un mes seco y días de un mes de lluvia. \n",
    "\n",
    "![title](sequia_incendios.png)\n",
    "\n",
    "Días de sequia asociados a distintos umbrales de precipitación tomados desde los días de incendio hacia atras. \n",
    "\n",
    "Para las reglas del modelo se utilizaron las distribuciones asociadas al umbral de $6mm$ de precipitación acumulada."
   ]
  },
  {
   "cell_type": "markdown",
   "metadata": {
    "collapsed": true
   },
   "source": [
    "### 2.2 Almacenamiento Capilar"
   ]
  },
  {
   "cell_type": "markdown",
   "metadata": {},
   "source": [
    "La humedad del suelo es una variable determinante en la ignición de incendios y esta ligada a las condiciones de precipitación. La humedad del suelo se hace importante debido a que representa \n",
    "las condiciones en superficie de los materiales de cobertura (combustible) en función de las características topográficas y geomorfológicas de la zona. En el modelo se susceptibilidad de incendios \n",
    "se incorpora esta variable para representar las características físicas del terreno en cuanto al almacenamiento capilar el cual presenta un comportamiento variable en el espacio.\n",
    "\n",
    "Para determinar la humedad en el suelo se emplean los resultados del modelo hidrológico distribuido que es operado en el SIATA. En este modelo se simulan de manera distribuida los procesos hidrológicos mas importantes siendo uno de ellos el almacenamiento capilar. Para establecer las condiciones de humedad del suelo relacionas a la ocurrencia de un incendio se evalúa la distribución de dicha variable para el momento y lugar de todos los incendios históricos. \n",
    "\n",
    "![title](humedad_incendios.png)\n",
    "\n",
    "\n",
    "El almacenamiento capilar (tanque 1 del modelo hidrológico) presenta una distribución particular para los días con ocurrencia de incendio con respecto a los días de no ocurrencia. De la figura se infiere que en el $90\\%$ de los incendios la humedad del suelo no supera $2mm$ de almacenamiento, presentando una diferencia clara entre días de ocurrencia y no ocurrencia."
   ]
  },
  {
   "cell_type": "markdown",
   "metadata": {},
   "source": [
    "## 3. Variables estáticas"
   ]
  },
  {
   "cell_type": "markdown",
   "metadata": {
    "collapsed": true
   },
   "source": [
    "Las variables estáticas son aquellas que no varían en el tiempo y se entienden como condición permanente. En el modelo que se plantea las variables estáticas son el mapa de cobertura y el mapa de interacción antrópica, los cuales pueden ser actualizados cuando se crea pertinente."
   ]
  },
  {
   "cell_type": "markdown",
   "metadata": {},
   "source": [
    "### 3.1 Mapa de coberturas"
   ]
  },
  {
   "cell_type": "markdown",
   "metadata": {},
   "source": [
    "Para desarrollar el modelo de susceptibilidad a incendios forestales se debe considerar el tipo de cobertura en el suelo ya que condiciona la ignición del fuego y su posterior propagación, influye \n",
    "además en el tipo de incendio que se pueda presentar, posibilidades de extinción, formas de recuperación y valoración económica de las perdidas una vez ocurrido el evento. A continuación se describe\n",
    "la metodología empleada para clasificar las coberturas vegetales del Valle de Aburrá. \n",
    " \n",
    "Para la clasificación se utilizo una imagen satelital $Spot$ $5$, la cual cuenta con 4 bandas espectrales (pancromático, verde, rojo e infrarrojo cercano), y las herramientas del arctoolbox de  ARCGIS 10.1. El sistema de referencia de las imágenes fue UTM Zone 18N.\n",
    "  \n",
    "La metodología aplicada integro la aplicación de herramientas que permitieron ir desde una clasificación general hasta la definición de detalles específicos, logrados a través de correcciones puntuales. \n",
    "La primera caracterización se realizó con la herramienta de clasificación no supervisada $Cluster$ $Unsupervised$ $Classification$, esta herramienta emplea el algoritmo Iso Cluster, técnica de migración del valor medio, el cual genera un archivo de firmas tipo ASCII, que contiene información general y estadística para cada clase: número de muestras, medios, varianza y covarianza.\n",
    "\n",
    "El archivo de firmas anterior es usado por la herramienta $Maximum$ $Likelihood$ $Classification$. Esta herramienta se  empleó teniendo como configuración asignar cada celda a la clase con la mayor probabilidad de pertenecer. Como producto de las herramientas mencionadas anteriormente se infirió inicialmente 4 tipos de clases:\n",
    "\n",
    "Vegetación menos densa: suelos desnudos y pastos\n",
    "\n",
    "Vegetación vigorosa: bosques, pastos y cultivos\n",
    "\n",
    "\n",
    "Superficie de máxima reflectividad: nubes y suelos desnudos \n",
    "\n",
    "Superficies cubiertas por agua\n",
    "\n",
    "NoData: Superficie sin información\n",
    "\n",
    "Las clases definidas para el mapa de coberturas final son: Bosques, pastos, cultivos, superficies impermeables, cuerpos de agua y suelos desnudos.\n",
    "\n",
    "![title](coberturas_incendio.png)\n",
    "\n",
    "Mapa de coberturas para el Valle de Aburrá, utilizado para el modelo de susceptibilidad de incendios con resolución espacial de 10m x 10m.\n",
    "\n",
    "![title](hist_coberturas.png)\n",
    "\n",
    "Histograma de coberturas existentes en el Valle de Aburrá."
   ]
  },
  {
   "cell_type": "markdown",
   "metadata": {},
   "source": [
    "### 3.2 Mapa de interacción antrópica"
   ]
  },
  {
   "cell_type": "markdown",
   "metadata": {},
   "source": [
    "En la ocurrencia de incendios forestales la interacción antrópica tiene un papel determinante, independiente de las condiciones climáticas y características del combustible, son las acciones humanas las que generan el inicio del fuego. Para incluir la interacción antrópica en el modelo de susceptibilidad se emplean los incendios históricos para determinan su relación con la cercanía a la zona urbana del Valle de Aburrá.\n",
    "\n",
    "En este ejercicio se propone un mapa de costos en función de la cercanía a la zona urbana, se calculan contornos tipo Buffer para los limites de la zona urbana a 500, 1000, 1500, 2000 y 2500 metros. Se contemplan las zonas de autopista ya que estas implican interacción antrópica. \n",
    " \n",
    "Se identifican los incendios que históricamente han ocurrido en cada una de las zonas para luego crear un mapa de probabilidad que sera empleado en el planteamiento del modelo de susceptibilidad.\n",
    "\n",
    "![title](antropico_incendios.png)\n",
    "\n",
    "Ocurrencia de incendios asociados a la zona urbana.\n",
    "\n",
    "![title](tabla_antropico.png)\n",
    "\n",
    "Cantidad de incendios, densidad y probabilidad de ocurrencia para cada contorno.\n",
    "                       \n",
    "\n"
   ]
  },
  {
   "cell_type": "markdown",
   "metadata": {},
   "source": [
    "## 4. Temperatura"
   ]
  },
  {
   "cell_type": "markdown",
   "metadata": {},
   "source": [
    "En el modelo de susceptibilidad la temperatura se considera desde dos puntos de vista: \n",
    "\n",
    "1. Para el historico de incendios se estima la temperatura superficial del punto en que ocurrieron en base a la temperatura ambiente monitoreada en SIATA. Estas estimaciones se emplean para determinar un valor mínimo de temperatura necesario para la ocurrencia de incendios, el cual se utiliza como filtro en el modelo operacional de incendios forestales.\n",
    "\n",
    "2. En el modelo operacional se considera un factor de corrección que depende de la temperatura máxima registrada en el día por las estaciones meteorológicas del SIATA. Para calcular este factor se emplean los máximos diarios de todas las estaciones del sistema en los dias de ocurrencia de incendios."
   ]
  },
  {
   "cell_type": "markdown",
   "metadata": {},
   "source": [
    "### 4.1 Temperatura superficial"
   ]
  },
  {
   "cell_type": "markdown",
   "metadata": {},
   "source": [
    "La red meteorológica del SIATA contiene información de temperatura ambiente, humedad relativa, viento y presión atmosférica con resolución temporal de un minuto y esta compuesta por 16 estaciones en todo el Valle de Aburrá. Estas variables son importantes para la ignición y propagación de los incendios forestales.\n",
    "\n",
    "Con el objetivo de estimar la temperatura ambiente para cada incendio considerado en la base de datos, se desarrolla un modelo de interpolación de temperatura en base a las estaciones de monitoreo de\n",
    "temperatura operadas por el SIATA. Considerando la relación clara entre la temperatura y la elevación se plantea una regresión en base a la elevación de las estaciones de monitoreo y la elevación de \n",
    "ocurrencia de los incendios forestales. Las regresiones son construidas para distintas horas del día para considerar la variabilidad típica de la temperatura durante el día.\n",
    "\n",
    "![title](temp_amb_incendios.png)\n",
    "\n",
    "Regresión entre elevación y temperatura ambiente construida a partir con la red meteorológica SIATA. \n",
    "\n",
    "La ocurrencia de un incendio forestal esta ligada a la temperatura superficial mas que a la temperatura ambiente. La temperatura superficial puede ser considerada como la temperatura al nivel del suelo y\n",
    "esta determinada por el tipo de cobertura y su capacidad de retener o disipar el calor. Las temperaturas ambiente y superficial se relacionan entre sí ya que una implica la condición de la otra.\n",
    "\n",
    "Para relacionar ambaas temperaturas se utilizan estimaciones de temperatura superficial a partir de imágenes Landsat. Dichas estimaciones fueron desarrolladas en un trabajo de investigación del SIATA en donde se utilizaron cinco imágenes Lansat \n",
    "\n",
    "La temperatura superficial determina la condición de vulnerabilidad del suelo pero al ser obtenida de imágenes satelitales no permite tener continuidad temporal, por su parte la temperatura ambiente se encuentra monitoreada de manera permanente por la red meteorológica de SIATA, luego si se establece una relación entre ambas podemos estimar espacial y temporalmente la temperatura del suelo haciendo uso de la interpolación de temperatura ambiente.\n",
    "\n",
    "![title](temp_superficial_incendios.png)\n",
    "\n",
    "En la Figura se observa inicialmente que las variables son directamente proporcionales y que la temperatura superficial es mayor a la temperatura ambiente en todo momento.\n",
    "Se observa además que a partir de un valor de $T_{a}$ la tasa de crecimiento ($\\Delta T_{s} / \\Delta T_{a}$) aumenta. En el caso en mención se observa aumento en la pendiente para valores de \n",
    "$T_{a} > 24$.\n",
    "\n",
    "Finalmente con la estimación de temperatura superficial para el historico de incendios se establece el umbral utilizado como filtro en el modelo operacional.\n",
    "\n",
    "![title](umbral_temp_incendios.png)"
   ]
  },
  {
   "cell_type": "markdown",
   "metadata": {},
   "source": [
    "### 4.2 Factor de corrección por temperatura"
   ]
  },
  {
   "cell_type": "markdown",
   "metadata": {},
   "source": [
    "La temperatura es una variable determinante en la ocurrencia de incendios pero no define por sí sola la susceptibilidad a incendios forestales. Aunque en temperaturas altas es mas probable la ignición de combustible vegetal tambien existe la posibilidad de que se presenten en temperaturas medias o bajas si las condiciones de los días antecedentes han marcado temperaturas altas. Es decir la temperatura es determinante como variable dependiente de días anteriores y no como una variable puntual. Por su parte temperaturas altas en un día no son totalmente determinantes para incendio forestal si los días anteriores han sido lluviosos, nubados o ambos.\n",
    "\n",
    "Para considerar el efecto acumulado de la temperatura se construye un grafico historico de temperaturas máximas diarias para las estaciones de la red meteorológica SIATA.\n",
    "\n",
    "![title](factor_temp_hist.png)\n",
    "\n",
    "Los registros son estandarizados y se estima la tendencia media (linea negra), los incendios ocurridos se marcan con un punto rojo. Se observa que la serie de temperaturas máximas diarias presentan un comportamiento periodico de crecimiento y decrecimiento, el cual es de aproximadamente 12 días entre pico y pico.\n",
    "\n",
    "Se observa además que la ocurrencia de incendios se concentra en valores altos de la serie. El historico de incendios es utilizado para establecer regiones de probabilidad baja, media y alta de acuerdo a frecuencia de ocurrencia. En la región de probabilidad alta se encuentran el $70\\%$ de los incendios, en la región de probabilidad media el $25\\%$ y en la región de probabilidad baja se encuentra el $5\\%$.\n",
    "\n",
    "Inicialmente se contempla que la estimación horaria de este factor pueda ser utilizada para aumentar, disminuir o conservar los resultados finales del modelo. De esta manera se evitan subestimaciones y sobreestimaciones en la susceptibilidad apoyados en la tendencia de temperatura del día. "
   ]
  },
  {
   "cell_type": "markdown",
   "metadata": {},
   "source": [
    "## 5. Mapa historico de ocurrencia"
   ]
  },
  {
   "cell_type": "markdown",
   "metadata": {},
   "source": [
    "Para completar el conjunto de variables a considerar se cuenta con un mapa de ocurrencia histórica en el cual se tienen la cantidad de eventos ocurridos en cada zona del Valle de Aburrá. Este mapa agrega susceptibilidad adicional a aquellas zonas donde históricamente se presentan mayor cantidad de incendios y la disminuye para las zonas donde no es normal la ocurrencia de un evento.\n",
    "\n",
    "![title](historico_incendios.png)\n"
   ]
  },
  {
   "cell_type": "markdown",
   "metadata": {},
   "source": [
    "## 6. Esquema del Modelo de Susceptibilidad a Incendios Forestales"
   ]
  },
  {
   "cell_type": "markdown",
   "metadata": {},
   "source": [
    "Los mapas antes mencionados son construidos con la probabilidad de ocurrencia de incendio dada la condición de cada variable. \n",
    "\n",
    "A continuación se presenta el esquema general del modelo de susceptibilidad a incendios forestales\n",
    "\n",
    "![title](esquema_incedios.png)\n",
    "\n",
    "\n",
    "\n",
    "Las distintas variables son convertidas a probabilidad de ocurrencia de acuerdo a los registros historicos de cada una de ellas en días de ocurrencia de incendios. Los mapas son sumados linealmente asignando pesos a cada variable, a continuación se presenta la ecuación genral y la metodología utilizada para identificar los pesos de cada variable.\n",
    "\n",
    "$SI=(ME W_{me})+(MP W_{mp})+(MAC W_{mac})+(MHI W_{mhi})$\n",
    "\n",
    "Donde: $ME$, $W_{me}$: mapa y peso para las variables estáticas, $MP$, $W_{mp}$: mapa y peso para la precipitación, $MAC$, $W_{mac}$: mapa y peso para el almacenamiento capilar y $MHI$, $W_{mhi}$: mapa y peso para el histórico de eventos. Los mapas son probabilidad de ocurrencia dada la variable, luego para la suma ponderada se establece que:\n",
    "\n",
    "$W_{me} +  W_{mp} + W_{mac} + W_{mhi} = 1$\n",
    "\n",
    "Para estimar el conjunto de pesos que mejor se ajustan a la historia de eventos se realiza un proceso de validación que se explica a continuación:\n"
   ]
  },
  {
   "cell_type": "markdown",
   "metadata": {},
   "source": [
    "### 6.1 Estimación pesos ponderados"
   ]
  },
  {
   "cell_type": "markdown",
   "metadata": {},
   "source": [
    "1. Generación de mapas para todas las variables en los días de ocurrencia de incendios. La localización de los incendios sera utilizada para validar espacialmente los resultados del modelo de susceptibilidad.\n",
    "\n",
    "2. Generación aleatoria de $n$ conjuntos de pesos.\n",
    "\n",
    "3. Evaluación de cada uno de los conjuntos de parámetros. Los resultados son calificados por su capacidad de acertar zonas de incendio y de descartar zonas sin incendio.\n",
    "\n",
    "4. Para cada conjunto de parámetros evaluados en el modelo se obtienen puntajes promedio para el mapa. Se obtienen puntajes para los aciertos positivos (susceptibilidad alta en lugares de incendio) y para los aciertos negativos (susceptibilidad baja en lugares de no ocurrencia). El aumento en aciertos positivos implica una disminución de los aciertos negativos y viceversa, para seleccionar un conjunto de parámetros óptimo se debe considerar un punto medio en el cual no se generen mapas de susceptibilidad extremos.\n",
    "\n",
    "En términos de confiabilidad del producto no es pertinente obtener un mapa con susceptibilidad alta en gran parte el dominio (sobreestimación de casos) ni un mapa con susceptibilidad baja en gran parte del dominio (subestimación de casos). Para seleccionar un conjunto de parámetros óptimo se comparan los puntajes obtenidos en aciertos positivos con los obtenidos en aciertos negativos para todos los días considerados.\n",
    "\n",
    "![title](optimos_incendios.png)\n",
    "\n",
    "En la figura se observa que obtener aciertos negativos es mas fácil que obtener aciertos positivos ya que espacialmente los incendios son puntuales y no representan una condición general en el mapa. Concientes de esta dificultad se debe elegir un conjunto de parámetros que optimice los aciertos positivos sin irse al extremo de la sobreestimación.         \n",
    "\n",
    "Finalmente se elige un conjunto de parámetros para el cual las puntuaciones promedio son: aciertos positivos: $0.36$ y aciertos negativos: $0.48$, para los cuales se obtienen los siguientes valores: $W_{me}=0.41$, $W_{mp}=0.39$, $W_{mac}=0,10$ y $W_{mhi}=0.08$. "
   ]
  },
  {
   "cell_type": "markdown",
   "metadata": {},
   "source": [
    "### 6.2 Productos del modelo"
   ]
  },
  {
   "cell_type": "markdown",
   "metadata": {},
   "source": [
    "El modelo de susceptibilidad de incendios forestales genera un mapa con frecuencia horaria.\n",
    "\n",
    "![title](mapas_salida.png)\n",
    "\n",
    "Además se genera reportes para divulgación a entidades competentes:\n",
    "\n",
    "Mapa distribuido resolución espacial $30m$\n",
    "\n",
    "![title](Reporte_incendios1.png)\n",
    "\n",
    "Mapa agregado por municipios en el Valle de Aburrá.\n",
    "\n",
    "![title](Reporte_incendios2.png)"
   ]
  },
  {
   "cell_type": "code",
   "execution_count": null,
   "metadata": {
    "collapsed": true
   },
   "outputs": [],
   "source": []
  }
 ],
 "metadata": {
  "kernelspec": {
   "display_name": "Python 2",
   "language": "python",
   "name": "python2"
  },
  "language_info": {
   "codemirror_mode": {
    "name": "ipython",
    "version": 2
   },
   "file_extension": ".py",
   "mimetype": "text/x-python",
   "name": "python",
   "nbconvert_exporter": "python",
   "pygments_lexer": "ipython2",
   "version": "2.7.6"
  }
 },
 "nbformat": 4,
 "nbformat_minor": 2
}
